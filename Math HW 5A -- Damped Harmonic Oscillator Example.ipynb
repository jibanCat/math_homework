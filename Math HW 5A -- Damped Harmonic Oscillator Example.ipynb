{
 "cells": [
  {
   "cell_type": "code",
   "execution_count": 1,
   "metadata": {},
   "outputs": [],
   "source": [
    "import sympy as sp\n",
    "\n",
    "sp.init_printing()"
   ]
  },
  {
   "cell_type": "markdown",
   "metadata": {},
   "source": [
    "# Math 5A -- Damped Harmoic Oscillator Example "
   ]
  },
  {
   "cell_type": "code",
   "execution_count": 12,
   "metadata": {},
   "outputs": [
    {
     "data": {
      "image/png": "[encoded data removed]",
      "text/latex": [
       "$$2 \\gamma \\frac{d}{d t} x{\\left (t \\right )} + \\omega_0^{2} x{\\left (t \\right )} + \\frac{d^{2}}{d t^{2}} x{\\left (t \\right )} = F_{0} e^{- \\alpha t}$$"
      ],
      "text/plain": [
       "                                      2                      \n",
       "         d                 2         d              -\\alpha⋅t\n",
       "2⋅\\gamma⋅──(x(t)) + \\omega₀ ⋅x(t) + ───(x(t)) = F₀⋅ℯ         \n",
       "         dt                           2                      \n",
       "                                    dt                       "
      ]
     },
     "execution_count": 12,
     "metadata": {},
     "output_type": "execute_result"
    }
   ],
   "source": [
    "# define symbols\n",
    "gamma, omega_0, t, delta, F_0, alpha = sp.symbols(\n",
    "    r\"\\gamma, \\omega_0, t, \\delta, F_0, \\alpha\"\n",
    ")\n",
    "\n",
    "# define function\n",
    "x = sp.Function(\"x\")(t)\n",
    "\n",
    "# define differential equation\n",
    "d = lambda x : sp.Derivative(x[0], t, x[1])\n",
    "diff_eq = sp.Eq(\n",
    "    d([x, 2]) + 2 * gamma * d([x, 1]) + omega_0**2 * x, F_0 * sp.exp(- alpha * t)\n",
    ")\n",
    "diff_eq"
   ]
  },
  {
   "cell_type": "code",
   "execution_count": 18,
   "metadata": {},
   "outputs": [
    {
     "data": {
      "image/png": "[encoded data removed]",
      "text/latex": [
       "$$\\frac{F_{0} e^{- \\alpha t}}{\\alpha^{2} - 2 \\alpha \\gamma + \\omega_0^{2}} - \\frac{F_{0} e^{- \\gamma t} \\sin{\\left (\\delta - t \\sqrt{- \\gamma^{2} + \\omega_0^{2}} \\right )}}{\\sqrt{- \\gamma^{2} + \\omega_0^{2}} \\sqrt{\\alpha^{2} - 2 \\alpha \\gamma + \\omega_0^{2}}}$$"
      ],
      "text/plain": [
       "                                                              ⎛              _\n",
       "               -\\alpha⋅t                         -\\gamma⋅t    ⎜             ╱ \n",
       "           F₀⋅ℯ                              F₀⋅ℯ         ⋅sin⎝\\delta - t⋅╲╱  \n",
       "──────────────────────────────────── - ───────────────────────────────────────\n",
       "      2                            2      ______________________    __________\n",
       "\\alpha  - 2⋅\\alpha⋅\\gamma + \\omega₀      ╱         2          2    ╱       2  \n",
       "                                       ╲╱  - \\gamma  + \\omega₀  ⋅╲╱  \\alpha  -\n",
       "\n",
       "_____________________⎞      \n",
       "        2          2 ⎟      \n",
       "- \\gamma  + \\omega₀  ⎠      \n",
       "────────────────────────────\n",
       "____________________________\n",
       "                          2 \n",
       " 2⋅\\alpha⋅\\gamma + \\omega₀  "
      ]
     },
     "execution_count": 18,
     "metadata": {},
     "output_type": "execute_result"
    }
   ],
   "source": [
    "# define the solution\n",
    "x_sol = F_0 / sp.sqrt(omega_0**2 - gamma**2) / sp.sqrt(omega_0**2 + alpha**2 - 2 * alpha * gamma\n",
    "    ) * sp.sin(sp.sqrt(omega_0**2 - gamma**2) * t - delta) * sp.exp(-gamma * t\n",
    "    ) +  F_0 / (omega_0**2 + alpha**2 - 2 * alpha * gamma) * sp.exp(-alpha * t)\n",
    "x_sol"
   ]
  },
  {
   "cell_type": "code",
   "execution_count": 19,
   "metadata": {},
   "outputs": [
    {
     "data": {
      "image/png": "[encoded data removed]",
      "text/latex": [
       "$$2 \\gamma \\frac{\\partial}{\\partial t} \\left(\\frac{F_{0} e^{- \\alpha t}}{\\alpha^{2} - 2 \\alpha \\gamma + \\omega_0^{2}} - \\frac{F_{0} e^{- \\gamma t} \\sin{\\left (\\delta - t \\sqrt{- \\gamma^{2} + \\omega_0^{2}} \\right )}}{\\sqrt{- \\gamma^{2} + \\omega_0^{2}} \\sqrt{\\alpha^{2} - 2 \\alpha \\gamma + \\omega_0^{2}}}\\right) + \\omega_0^{2} \\left(\\frac{F_{0} e^{- \\alpha t}}{\\alpha^{2} - 2 \\alpha \\gamma + \\omega_0^{2}} - \\frac{F_{0} e^{- \\gamma t} \\sin{\\left (\\delta - t \\sqrt{- \\gamma^{2} + \\omega_0^{2}} \\right )}}{\\sqrt{- \\gamma^{2} + \\omega_0^{2}} \\sqrt{\\alpha^{2} - 2 \\alpha \\gamma + \\omega_0^{2}}}\\right) + \\frac{\\partial^{2}}{\\partial t^{2}} \\left(\\frac{F_{0} e^{- \\alpha t}}{\\alpha^{2} - 2 \\alpha \\gamma + \\omega_0^{2}} - \\frac{F_{0} e^{- \\gamma t} \\sin{\\left (\\delta - t \\sqrt{- \\gamma^{2} + \\omega_0^{2}} \\right )}}{\\sqrt{- \\gamma^{2} + \\omega_0^{2}} \\sqrt{\\alpha^{2} - 2 \\alpha \\gamma + \\omega_0^{2}}}\\right) = F_{0} e^{- \\alpha t}$$"
      ],
      "text/plain": [
       "           ⎛                                                              ⎛   \n",
       "           ⎜               -\\alpha⋅t                         -\\gamma⋅t    ⎜   \n",
       "         ∂ ⎜           F₀⋅ℯ                              F₀⋅ℯ         ⋅sin⎝\\de\n",
       "2⋅\\gamma⋅──⎜──────────────────────────────────── - ───────────────────────────\n",
       "         ∂t⎜      2                            2      ______________________  \n",
       "           ⎜\\alpha  - 2⋅\\alpha⋅\\gamma + \\omega₀      ╱         2          2   \n",
       "           ⎝                                       ╲╱  - \\gamma  + \\omega₀  ⋅╲\n",
       "\n",
       "           ______________________⎞      ⎞            ⎛                        \n",
       "          ╱         2          2 ⎟      ⎟            ⎜               -\\alpha⋅t\n",
       "lta - t⋅╲╱  - \\gamma  + \\omega₀  ⎠      ⎟          2 ⎜           F₀⋅ℯ         \n",
       "────────────────────────────────────────⎟ + \\omega₀ ⋅⎜────────────────────────\n",
       "  ______________________________________⎟            ⎜      2                 \n",
       " ╱       2                            2 ⎟            ⎜\\alpha  - 2⋅\\alpha⋅\\gamm\n",
       "╱  \\alpha  - 2⋅\\alpha⋅\\gamma + \\omega₀  ⎠            ⎝                        \n",
       "\n",
       "                                      ⎛              ______________________⎞  \n",
       "                         -\\gamma⋅t    ⎜             ╱         2          2 ⎟  \n",
       "                     F₀⋅ℯ         ⋅sin⎝\\delta - t⋅╲╱  - \\gamma  + \\omega₀  ⎠  \n",
       "──────────── - ───────────────────────────────────────────────────────────────\n",
       "           2      ______________________    __________________________________\n",
       "a + \\omega₀      ╱         2          2    ╱       2                          \n",
       "               ╲╱  - \\gamma  + \\omega₀  ⋅╲╱  \\alpha  - 2⋅\\alpha⋅\\gamma + \\omeg\n",
       "\n",
       "    ⎞      ⎛                                                              ⎛   \n",
       "    ⎟     2⎜               -\\alpha⋅t                         -\\gamma⋅t    ⎜   \n",
       "    ⎟    ∂ ⎜           F₀⋅ℯ                              F₀⋅ℯ         ⋅sin⎝\\de\n",
       "────⎟ + ───⎜──────────────────────────────────── - ───────────────────────────\n",
       "____⎟     2⎜      2                            2      ______________________  \n",
       "  2 ⎟   ∂t ⎜\\alpha  - 2⋅\\alpha⋅\\gamma + \\omega₀      ╱         2          2   \n",
       "a₀  ⎠      ⎝                                       ╲╱  - \\gamma  + \\omega₀  ⋅╲\n",
       "\n",
       "           ______________________⎞      ⎞                \n",
       "          ╱         2          2 ⎟      ⎟                \n",
       "lta - t⋅╲╱  - \\gamma  + \\omega₀  ⎠      ⎟       -\\alpha⋅t\n",
       "────────────────────────────────────────⎟ = F₀⋅ℯ         \n",
       "  ______________________________________⎟                \n",
       " ╱       2                            2 ⎟                \n",
       "╱  \\alpha  - 2⋅\\alpha⋅\\gamma + \\omega₀  ⎠                "
      ]
     },
     "execution_count": 19,
     "metadata": {},
     "output_type": "execute_result"
    }
   ],
   "source": [
    "# you see how crazy it is\n",
    "diff_eq.subs(x, x_sol)"
   ]
  },
  {
   "cell_type": "code",
   "execution_count": 20,
   "metadata": {},
   "outputs": [
    {
     "data": {
      "image/png": "[encoded data removed]",
      "text/latex": [
       "$$F_{0} \\left(\\frac{\\alpha^{2} e^{- \\alpha t}}{\\alpha^{2} - 2 \\alpha \\gamma + \\omega_0^{2}} - \\frac{\\gamma^{2} e^{- \\gamma t} \\sin{\\left (\\delta - t \\sqrt{- \\gamma^{2} + \\omega_0^{2}} \\right )}}{\\sqrt{- \\gamma^{2} + \\omega_0^{2}} \\sqrt{\\alpha^{2} - 2 \\alpha \\gamma + \\omega_0^{2}}} - \\frac{2 \\gamma e^{- \\gamma t} \\cos{\\left (\\delta - t \\sqrt{- \\gamma^{2} + \\omega_0^{2}} \\right )}}{\\sqrt{\\alpha^{2} - 2 \\alpha \\gamma + \\omega_0^{2}}} + \\frac{\\sqrt{- \\gamma^{2} + \\omega_0^{2}} e^{- \\gamma t} \\sin{\\left (\\delta - t \\sqrt{- \\gamma^{2} + \\omega_0^{2}} \\right )}}{\\sqrt{\\alpha^{2} - 2 \\alpha \\gamma + \\omega_0^{2}}}\\right) + 2 \\gamma \\left(- \\frac{F_{0} \\alpha e^{- \\alpha t}}{\\alpha^{2} - 2 \\alpha \\gamma + \\omega_0^{2}} + \\frac{F_{0} \\gamma e^{- \\gamma t} \\sin{\\left (\\delta - t \\sqrt{- \\gamma^{2} + \\omega_0^{2}} \\right )}}{\\sqrt{- \\gamma^{2} + \\omega_0^{2}} \\sqrt{\\alpha^{2} - 2 \\alpha \\gamma + \\omega_0^{2}}} + \\frac{F_{0} e^{- \\gamma t} \\cos{\\left (\\delta - t \\sqrt{- \\gamma^{2} + \\omega_0^{2}} \\right )}}{\\sqrt{\\alpha^{2} - 2 \\alpha \\gamma + \\omega_0^{2}}}\\right) + \\omega_0^{2} \\left(\\frac{F_{0} e^{- \\alpha t}}{\\alpha^{2} - 2 \\alpha \\gamma + \\omega_0^{2}} - \\frac{F_{0} e^{- \\gamma t} \\sin{\\left (\\delta - t \\sqrt{- \\gamma^{2} + \\omega_0^{2}} \\right )}}{\\sqrt{- \\gamma^{2} + \\omega_0^{2}} \\sqrt{\\alpha^{2} - 2 \\alpha \\gamma + \\omega_0^{2}}}\\right) = F_{0} e^{- \\alpha t}$$"
      ],
      "text/plain": [
       "   ⎛                                                                 ⎛        \n",
       "   ⎜               2  -\\alpha⋅t                      2  -\\gamma⋅t    ⎜        \n",
       "   ⎜         \\alpha ⋅ℯ                         \\gamma ⋅ℯ         ⋅sin⎝\\delta -\n",
       "F₀⋅⎜──────────────────────────────────── - ───────────────────────────────────\n",
       "   ⎜      2                            2      ______________________    ______\n",
       "   ⎜\\alpha  - 2⋅\\alpha⋅\\gamma + \\omega₀      ╱         2          2    ╱      \n",
       "   ⎝                                       ╲╱  - \\gamma  + \\omega₀  ⋅╲╱  \\alph\n",
       "\n",
       "      ______________________⎞                             ⎛              _____\n",
       "     ╱         2          2 ⎟                -\\gamma⋅t    ⎜             ╱     \n",
       " t⋅╲╱  - \\gamma  + \\omega₀  ⎠      2⋅\\gamma⋅ℯ         ⋅cos⎝\\delta - t⋅╲╱  - \\g\n",
       "──────────────────────────────── - ───────────────────────────────────────────\n",
       "________________________________                ______________________________\n",
       " 2                            2                ╱       2                      \n",
       "a  - 2⋅\\alpha⋅\\gamma + \\omega₀               ╲╱  \\alpha  - 2⋅\\alpha⋅\\gamma + \\\n",
       "\n",
       "_________________⎞      ______________________               ⎛              __\n",
       "    2          2 ⎟     ╱         2          2   -\\gamma⋅t    ⎜             ╱  \n",
       "amma  + \\omega₀  ⎠   ╲╱  - \\gamma  + \\omega₀  ⋅ℯ         ⋅sin⎝\\delta - t⋅╲╱  -\n",
       "────────────────── + ─────────────────────────────────────────────────────────\n",
       "________                                  ____________________________________\n",
       "      2                                  ╱       2                            \n",
       "omega₀                                 ╲╱  \\alpha  - 2⋅\\alpha⋅\\gamma + \\omega₀\n",
       "\n",
       "____________________⎞⎞            ⎛                                           \n",
       "       2          2 ⎟⎟            ⎜                     -\\alpha⋅t             \n",
       " \\gamma  + \\omega₀  ⎠⎟            ⎜          F₀⋅\\alpha⋅ℯ                      \n",
       "─────────────────────⎟ + 2⋅\\gamma⋅⎜- ──────────────────────────────────── + ──\n",
       "__                   ⎟            ⎜        2                            2     \n",
       "2                    ⎟            ⎜  \\alpha  - 2⋅\\alpha⋅\\gamma + \\omega₀      \n",
       "                     ⎠            ⎝                                         ╲╱\n",
       "\n",
       "                         ⎛              ______________________⎞               \n",
       "            -\\gamma⋅t    ⎜             ╱         2          2 ⎟         -\\gamm\n",
       " F₀⋅\\gamma⋅ℯ         ⋅sin⎝\\delta - t⋅╲╱  - \\gamma  + \\omega₀  ⎠     F₀⋅ℯ      \n",
       "───────────────────────────────────────────────────────────────── + ──────────\n",
       " ______________________    ______________________________________             \n",
       "╱         2          2    ╱       2                            2             ╱\n",
       "  - \\gamma  + \\omega₀  ⋅╲╱  \\alpha  - 2⋅\\alpha⋅\\gamma + \\omega₀            ╲╱ \n",
       "\n",
       "       ⎛              ______________________⎞⎞            ⎛                   \n",
       "a⋅t    ⎜             ╱         2          2 ⎟⎟            ⎜               -\\al\n",
       "   ⋅cos⎝\\delta - t⋅╲╱  - \\gamma  + \\omega₀  ⎠⎟          2 ⎜           F₀⋅ℯ    \n",
       "─────────────────────────────────────────────⎟ + \\omega₀ ⋅⎜───────────────────\n",
       "______________________________________       ⎟            ⎜      2            \n",
       "       2                            2        ⎟            ⎜\\alpha  - 2⋅\\alpha⋅\n",
       " \\alpha  - 2⋅\\alpha⋅\\gamma + \\omega₀         ⎠            ⎝                   \n",
       "\n",
       "                                           ⎛              ____________________\n",
       "pha⋅t                         -\\gamma⋅t    ⎜             ╱         2          \n",
       "                          F₀⋅ℯ         ⋅sin⎝\\delta - t⋅╲╱  - \\gamma  + \\omega₀\n",
       "───────────────── - ──────────────────────────────────────────────────────────\n",
       "                2      ______________________    _____________________________\n",
       "\\gamma + \\omega₀      ╱         2          2    ╱       2                     \n",
       "                    ╲╱  - \\gamma  + \\omega₀  ⋅╲╱  \\alpha  - 2⋅\\alpha⋅\\gamma + \n",
       "\n",
       "__⎞      ⎞                \n",
       "2 ⎟      ⎟                \n",
       "  ⎠      ⎟       -\\alpha⋅t\n",
       "─────────⎟ = F₀⋅ℯ         \n",
       "_________⎟                \n",
       "       2 ⎟                \n",
       "\\omega₀  ⎠                "
      ]
     },
     "execution_count": 20,
     "metadata": {},
     "output_type": "execute_result"
    }
   ],
   "source": [
    "# doing the differential\n",
    "diff_eq.subs(x, x_sol).doit()"
   ]
  },
  {
   "cell_type": "code",
   "execution_count": 24,
   "metadata": {},
   "outputs": [
    {
     "data": {
      "image/png": "[encoded data removed]",
      "text/latex": [
       "$$F_{0} e^{- \\alpha t}$$"
      ],
      "text/plain": [
       "    -\\alpha⋅t\n",
       "F₀⋅ℯ         "
      ]
     },
     "execution_count": 24,
     "metadata": {},
     "output_type": "execute_result"
    }
   ],
   "source": [
    "# for the left hand side\n",
    "sp.simplify(diff_eq.subs(x, x_sol).lhs.doit())"
   ]
  },
  {
   "cell_type": "markdown",
   "metadata": {},
   "source": [
    "Oh My God!! It's real! Those LHS craps is just $F_0 e^{-\\alpha t}$."
   ]
  }
 ],
 "metadata": {
  "kernelspec": {
   "display_name": "Python 3",
   "language": "python",
   "name": "python3"
  },
  "language_info": {
   "codemirror_mode": {
    "name": "ipython",
    "version": 3
   },
   "file_extension": ".py",
   "mimetype": "text/x-python",
   "name": "python",
   "nbconvert_exporter": "python",
   "pygments_lexer": "ipython3",
   "version": "3.6.1"
  }
 },
 "nbformat": 4,
 "nbformat_minor": 2
}
