{
 "cells": [
  {
   "cell_type": "code",
   "execution_count": 9,
   "metadata": {},
   "outputs": [],
   "source": [
    "import sympy as sp\n",
    "from sympy.abc import m,n,k,x,y\n",
    "\n",
    "sp.init_printing()\n",
    "%matplotlib inline\n",
    "%config InlineBackend.figure = \"retina\""
   ]
  },
  {
   "cell_type": "markdown",
   "metadata": {},
   "source": [
    "# Math HW 2B -- Green's Function"
   ]
  },
  {
   "cell_type": "markdown",
   "metadata": {},
   "source": [
    "## 1.3 Hands on 🙌"
   ]
  },
  {
   "cell_type": "code",
   "execution_count": 5,
   "metadata": {},
   "outputs": [
    {
     "data": {
      "image/png": "[encoded data removed]",
      "text/latex": [
       "$$2 \\sum_{n=1}^{m} \\frac{\\sin{\\left (\\pi n x \\right )} \\sin{\\left (\\pi n y \\right )}}{k^{2} - \\pi^{2} n^{2}}$$"
      ],
      "text/plain": [
       "    m                        \n",
       "   ____                      \n",
       "   ╲                         \n",
       "    ╲   sin(π⋅n⋅x)⋅sin(π⋅n⋅y)\n",
       "     ╲  ─────────────────────\n",
       "2⋅   ╱         2    2  2     \n",
       "    ╱         k  - π ⋅n      \n",
       "   ╱                         \n",
       "   ‾‾‾‾                      \n",
       "  n = 1                      "
      ]
     },
     "execution_count": 5,
     "metadata": {},
     "output_type": "execute_result"
    }
   ],
   "source": [
    "λ = sp.symbols(\"λ\")\n",
    "\n",
    "# construct your green's function\n",
    "eigen_functions_mul = sp.sin(n * sp.pi * y) * sp.sin(n * sp.pi * x) \\\n",
    "    / (k**2 - n**2 * sp.pi**2)\n",
    "greens_function     = 2 * sp.Sum(eigen_functions_mul, (n, 1, m))\n",
    "greens_function"
   ]
  },
  {
   "cell_type": "markdown",
   "metadata": {},
   "source": [
    "Substitution of variables"
   ]
  },
  {
   "cell_type": "code",
   "execution_count": 7,
   "metadata": {},
   "outputs": [
    {
     "data": {
      "image/png": "[encoded data removed]",
      "text/latex": [
       "$$2 \\sum_{n=1}^{10} \\frac{\\sin{\\left (0.5 \\pi n \\right )} \\sin{\\left (\\pi n x \\right )}}{- \\pi^{2} n^{2} + 0.04}$$"
      ],
      "text/plain": [
       "    10                         \n",
       "   ____                        \n",
       "   ╲                           \n",
       "    ╲   sin(0.5⋅π⋅n)⋅sin(π⋅n⋅x)\n",
       "     ╲  ───────────────────────\n",
       "2⋅   ╱          2  2           \n",
       "    ╱        - π ⋅n  + 0.04    \n",
       "   ╱                           \n",
       "   ‾‾‾‾                        \n",
       "  n = 1                        "
      ]
     },
     "execution_count": 7,
     "metadata": {},
     "output_type": "execute_result"
    }
   ],
   "source": [
    "# substitution in SymPy ... as easy as using a dictionary\n",
    "greens_function_1 = greens_function.subs({\n",
    "    y : 0.5,\n",
    "    k : 0.2, \n",
    "    m : 10   # n = 1 ~ 10\n",
    "})\n",
    "greens_function_1"
   ]
  },
  {
   "cell_type": "markdown",
   "metadata": {},
   "source": [
    "Ordinary plots, through `matplotlib`"
   ]
  },
  {
   "cell_type": "code",
   "execution_count": 11,
   "metadata": {},
   "outputs": [
    {
     "name": "stderr",
     "output_type": "stream",
     "text": [
      "/Users/cicero/anaconda/envs/viper/lib/python3.6/site-packages/sympy/plotting/experimental_lambdify.py:232: UserWarning: The evaluation of the expression is problematic. We are trying a failback method that may still work. Please report this as a bug.\n",
      "  warnings.warn('The evaluation of the expression is'\n"
     ]
    },
    {
     "data": {
      "image/png": "[encoded data removed]",
      "text/plain": [
       "<Figure size 432x288 with 1 Axes>"
      ]
     },
     "metadata": {},
     "output_type": "display_data"
    }
   ],
   "source": [
    "# Sympy plot automatically integrate the matplotlib function\n",
    "sp.plot(greens_function_1, (x, 0, 1));"
   ]
  },
  {
   "cell_type": "markdown",
   "metadata": {},
   "source": [
    "Sympy is very proud of their self-sufficiency design. It is Python-based and lightweight <font size=-2>(SymPy only depends on mpmath, a pure Python library for arbitrary floating point arithmetic, making it easy to use -- Quoted from Sympy)</font>. \n",
    "\n",
    "It means it should has its own plotting design! Let's see.  "
   ]
  },
  {
   "cell_type": "code",
   "execution_count": 19,
   "metadata": {},
   "outputs": [
    {
     "name": "stdout",
     "output_type": "stream",
     "text": [
      "      0 |  \\                                                    /\n",
      "        |   \\                                                  / \n",
      "        |    ..                                              ..  \n",
      "        |      \\                                            /    \n",
      "        |       ..                                        ..     \n",
      "        |         \\                                      /       \n",
      "        |          ..                                  ..        \n",
      "        |            \\                                /          \n",
      "-0.1201 | ------------..----------------------------..-----------\n",
      "        |               \\                          /             \n",
      "        |                ..                      ..              \n",
      "        |                  \\                    /                \n",
      "        |                   ..                ..                 \n",
      "        |                     \\              /                   \n",
      "        |                      \\            /                    \n",
      "        |                       ..        ..                     \n",
      "        |                         \\      /                       \n",
      "-0.2403 |                          ......                        \n",
      "          0                      0.5                        1\n"
     ]
    }
   ],
   "source": [
    "# plotting in Sympy\n",
    "sp.textplot(greens_function_1, 0, 1)"
   ]
  },
  {
   "cell_type": "markdown",
   "metadata": {},
   "source": [
    "Cuuuute! 🤩🤩🤩"
   ]
  },
  {
   "cell_type": "markdown",
   "metadata": {},
   "source": [
    "### Exploration n"
   ]
  },
  {
   "cell_type": "code",
   "execution_count": 22,
   "metadata": {},
   "outputs": [],
   "source": [
    "def plot_helper(y, k, m):\n",
    "    # construct your green's function\n",
    "    eigen_functions_mul = sp.sin(n * sp.pi * y) * sp.sin(n * sp.pi * x) \\\n",
    "        / (k**2 - n**2 * sp.pi**2)\n",
    "    greens_function     = 2 * sp.Sum(eigen_functions_mul, (n, 1, m))\n",
    "    \n",
    "    sp.textplot(\n",
    "        greens_function.subs({\n",
    "            y : y,\n",
    "            k : k, \n",
    "            m : m  \n",
    "        }),\n",
    "        0, 1\n",
    "    )"
   ]
  },
  {
   "cell_type": "code",
   "execution_count": 54,
   "metadata": {},
   "outputs": [
    {
     "data": {
      "application/vnd.jupyter.widget-view+json": {
       "model_id": "aba14375a7754730aaeb922c7994d599",
       "version_major": 2,
       "version_minor": 0
      },
      "text/html": [
       "<p>Failed to display Jupyter Widget of type <code>interactive</code>.</p>\n",
       "<p>\n",
       "  If you're reading this message in the Jupyter Notebook or JupyterLab Notebook, it may mean\n",
       "  that the widgets JavaScript is still loading. If this message persists, it\n",
       "  likely means that the widgets JavaScript library is either not installed or\n",
       "  not enabled. See the <a href=\"https://ipywidgets.readthedocs.io/en/stable/user_install.html\">Jupyter\n",
       "  Widgets Documentation</a> for setup instructions.\n",
       "</p>\n",
       "<p>\n",
       "  If you're reading this message in another frontend (for example, a static\n",
       "  rendering on GitHub or <a href=\"https://nbviewer.jupyter.org/\">NBViewer</a>),\n",
       "  it may mean that your frontend doesn't currently support widgets.\n",
       "</p>\n"
      ],
      "text/plain": [
       "interactive(children=(FloatSlider(value=0.5, description='y', max=1.5, min=-0.5), FloatSlider(value=0.2, description='k', max=0.6000000000000001, min=-0.2), IntSlider(value=10, description='m', min=1), Output()), _dom_classes=('widget-interact',))"
      ]
     },
     "metadata": {},
     "output_type": "display_data"
    },
    {
     "data": {
      "text/plain": [
       "<function __main__.plot_helper(y, k, m)>"
      ]
     },
     "execution_count": 54,
     "metadata": {},
     "output_type": "execute_result"
    }
   ],
   "source": [
    "from ipywidgets import interact\n",
    "import ipywidgets as widgets\n",
    "\n",
    "interact(\n",
    "    plot_helper, \n",
    "    y=0.5,\n",
    "    k=0.2,\n",
    "    m=widgets.IntSlider(min=1, max=100, step=1, value=10),\n",
    ")"
   ]
  },
  {
   "cell_type": "code",
   "execution_count": null,
   "metadata": {},
   "outputs": [],
   "source": [
    "%%writefile greens_eigen_series.py\n",
    "import sympy as sp\n",
    "from sympy.abc import m,n,k,x,y\n",
    "import argparse\n",
    "\n",
    "λ = sp.symbols(\"λ\")\n",
    "\n",
    "def plot_helper(y, k, m):\n",
    "    # construct your green's function\n",
    "    eigen_functions_mul = sp.sin(n * sp.pi * y) * sp.sin(n * sp.pi * x) \\\n",
    "        / (k**2 - n**2 * sp.pi**2)\n",
    "    greens_function     = 2 * sp.Sum(eigen_functions_mul, (n, 1, m))\n",
    "    \n",
    "    sp.textplot(\n",
    "        greens_function.subs({\n",
    "            y : y,\n",
    "            k : k, \n",
    "            m : m  \n",
    "        }),\n",
    "        0, 1\n",
    "    )\n",
    "    \n",
    "if __name__ == \"__main__\":\n",
    "    parser = argparse.ArgumentParser()\n",
    "    parser.add_argument(\"-y\", type=float)\n",
    "    parser.add_argument(\"-k\", type=float)\n",
    "    parser.add_argument(\"-m\", type=int)\n",
    "    args = parser.parse_args()\n",
    "    \n",
    "    # usage \n",
    "    # python greens_eigen_series.py"
   ]
  },
  {
   "cell_type": "markdown",
   "metadata": {},
   "source": [
    "#### Normal Plotting"
   ]
  },
  {
   "cell_type": "code",
   "execution_count": 52,
   "metadata": {},
   "outputs": [],
   "source": [
    "def plot_helper_normal(y, k, m):\n",
    "    # construct your green's function\n",
    "    eigen_functions_mul = sp.sin(n * sp.pi * y) * sp.sin(n * sp.pi * x) \\\n",
    "        / (k**2 - n**2 * sp.pi**2)\n",
    "    greens_function     = 2 * sp.Sum(eigen_functions_mul, (n, 1, m))\n",
    "    \n",
    "    sp.plot(\n",
    "        greens_function.subs({\n",
    "            y : y,\n",
    "            k : k, \n",
    "            m : m  \n",
    "        }),\n",
    "        (x, 0, 1)\n",
    "    )"
   ]
  },
  {
   "cell_type": "code",
   "execution_count": null,
   "metadata": {},
   "outputs": [],
   "source": []
  }
 ],
 "metadata": {
  "hide_input": false,
  "kernelspec": {
   "display_name": "Python 3",
   "language": "python",
   "name": "python3"
  },
  "language_info": {
   "codemirror_mode": {
    "name": "ipython",
    "version": 3
   },
   "file_extension": ".py",
   "mimetype": "text/x-python",
   "name": "python",
   "nbconvert_exporter": "python",
   "pygments_lexer": "ipython3",
   "version": "3.6.1"
  }
 },
 "nbformat": 4,
 "nbformat_minor": 2
}
