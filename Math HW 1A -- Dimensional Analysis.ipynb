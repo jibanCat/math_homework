{
 "cells": [
  {
   "cell_type": "code",
   "execution_count": 62,
   "metadata": {},
   "outputs": [],
   "source": [
    "import sympy as sp\n",
    "\n",
    "# pretty print the latex formula in notebook\n",
    "sp.init_printing()\n",
    "\n",
    "# this function is like the print function in Jupyter notebook,\n",
    "# you can check the Jupyter display document.\n",
    "from IPython.display import display"
   ]
  },
  {
   "cell_type": "markdown",
   "metadata": {},
   "source": [
    "![](https://i.imgur.com/Tirzwe2.png)\n"
   ]
  },
  {
   "cell_type": "code",
   "execution_count": 132,
   "metadata": {},
   "outputs": [
    {
     "name": "stdout",
     "output_type": "stream",
     "text": [
      "(a) Coulomb law in cgs unit\n"
     ]
    },
    {
     "data": {
      "image/png": "[encoded data removed]",
      "text/latex": [
       "$$F = \\frac{q_{1} q_{2}}{r^{2}}$$"
      ],
      "text/plain": [
       "    q₁⋅q₂\n",
       "F = ─────\n",
       "       2 \n",
       "      r  "
      ]
     },
     "metadata": {},
     "output_type": "display_data"
    },
    {
     "name": "stdout",
     "output_type": "stream",
     "text": [
      "Substitute the dimensions\n"
     ]
    },
    {
     "data": {
      "image/png": "[encoded data removed]",
      "text/latex": [
       "$$\\frac{L M}{T^{2}} = \\frac{[q]^{2}}{L^{2}}$$"
      ],
      "text/plain": [
       "         2\n",
       "L⋅M   [q] \n",
       "─── = ────\n",
       "  2     2 \n",
       " T     L  "
      ]
     },
     "metadata": {},
     "output_type": "display_data"
    },
    {
     "name": "stdout",
     "output_type": "stream",
     "text": [
      "Solve for [q]\n"
     ]
    },
    {
     "data": {
      "image/png": "[encoded data removed]",
      "text/latex": [
       "$$[q] = \\frac{\\sqrt{M} \\sqrt{L^{3}}}{T}$$"
      ],
      "text/plain": [
       "            ____\n",
       "           ╱  3 \n",
       "      √M⋅╲╱  L  \n",
       "[q] = ──────────\n",
       "          T     "
      ]
     },
     "metadata": {},
     "output_type": "display_data"
    }
   ],
   "source": [
    "# (a) use the Coulomb law in cgs unit\n",
    "F, q1, q2, r = sp.symbols(\"F q1 q2 r\", real=True)\n",
    "coulomb_law = sp.Eq(F, q1 * q2 * r**-2)\n",
    "print(\"(a) Coulomb law in cgs unit\")\n",
    "display(coulomb_law)\n",
    "\n",
    "# use symbols to represent the dimensions: length, mass, time\n",
    "L, M, T = sp.symbols(\"L M T\")\n",
    "\n",
    "# convert into dimension\n",
    "coulomb_law_dimension = coulomb_law.subs({\n",
    "    F : M * L * T**-2, \n",
    "    q1: sp.symbols(\"[q]\"),\n",
    "    q2: sp.symbols(\"[q]\"),\n",
    "    r : L\n",
    "})\n",
    "print(\"Substitute the dimensions\")\n",
    "display(coulomb_law_dimension)\n",
    "\n",
    "# solve for [q]\n",
    "sol = sp.solve(coulomb_law_dimension, sp.symbols(\"[q]\"), rational=False)[1]\n",
    "coulomb_law_dimension = sp.Eq(sp.symbols(\"[q]\"), sol)\n",
    "print(\"Solve for [q]\")\n",
    "display(coulomb_law_dimension.expand(force=True))"
   ]
  },
  {
   "cell_type": "code",
   "execution_count": 133,
   "metadata": {},
   "outputs": [
    {
     "name": "stdout",
     "output_type": "stream",
     "text": [
      "(b) Lagrangian is in the same unit of energy, so I use m*v**2 to express the dimension of Lagrangian: [Lagrangian] =\n"
     ]
    },
    {
     "data": {
      "image/png": "[encoded data removed]",
      "text/latex": [
       "$$\\frac{L^{2} M}{T^{2}}$$"
      ],
      "text/plain": [
       " 2  \n",
       "L ⋅M\n",
       "────\n",
       "  2 \n",
       " T  "
      ]
     },
     "metadata": {},
     "output_type": "display_data"
    },
    {
     "data": {
      "image/png": "[encoded data removed]",
      "text/latex": [
       "$$[S] = \\frac{L^{2} M}{T}$$"
      ],
      "text/plain": [
       "       2  \n",
       "      L ⋅M\n",
       "[S] = ────\n",
       "       T  "
      ]
     },
     "metadata": {},
     "output_type": "display_data"
    }
   ],
   "source": [
    "# (b) Lagrangian L = Kinetic energy - potential energy, so it is in the same unit of energy.\n",
    "Lagrangian = M * (L * T**-1)**2\n",
    "print(\"(b) Lagrangian is in the same unit of energy, so I use m*v**2 to express the dimension of Lagrangian: [Lagrangian] =\")\n",
    "display(Lagrangian)\n",
    "\n",
    "# Action is [S] = [Lagrangian] * T\n",
    "S = sp.symbols(\"[S]\")\n",
    "display(sp.Eq(S, Lagrangian * T, ))"
   ]
  },
  {
   "cell_type": "code",
   "execution_count": 136,
   "metadata": {},
   "outputs": [
    {
     "name": "stdout",
     "output_type": "stream",
     "text": [
      "(c) Recall the F = q (v x B) equation\n"
     ]
    },
    {
     "data": {
      "image/png": "[encoded data removed]",
      "text/latex": [
       "$$[B] = \\frac{\\sqrt{M}}{\\sqrt{L^{3}}}$$"
      ],
      "text/plain": [
       "         √M  \n",
       "[B] = ───────\n",
       "         ____\n",
       "        ╱  3 \n",
       "      ╲╱  L  "
      ]
     },
     "metadata": {},
     "output_type": "display_data"
    }
   ],
   "source": [
    "# (c) Recall the F = q (v x B) equation\n",
    "B, v, q = sp.symbols(\"B v q\")\n",
    "print(\"(c) Recall the F = q (v x B) equation\")\n",
    "\n",
    "# damn ... sympy's cross product is in vetor form.\n",
    "display(sp.Eq(\n",
    "    sp.symbols(\"[B]\"), \n",
    "    (F * q**-1 * v**-1).subs({\n",
    "        F : M * L * T**-2, \n",
    "        q : coulomb_law_dimension.rhs,\n",
    "        v : L * T**-1\n",
    "    })\n",
    ").expand(force=True))"
   ]
  },
  {
   "cell_type": "code",
   "execution_count": 137,
   "metadata": {},
   "outputs": [
    {
     "name": "stdout",
     "output_type": "stream",
     "text": [
      "(d) Energy is in the same unit of Largrangian\n"
     ]
    },
    {
     "data": {
      "image/png": "[encoded data removed]",
      "text/latex": [
       "$$[E] = \\frac{L^{2} M}{T^{2}}$$"
      ],
      "text/plain": [
       "       2  \n",
       "      L ⋅M\n",
       "[E] = ────\n",
       "        2 \n",
       "       T  "
      ]
     },
     "metadata": {},
     "output_type": "display_data"
    }
   ],
   "source": [
    "# (d) Energy is in the same unit of Largrangian\n",
    "print(\"(d) Energy is in the same unit of Largrangian\")\n",
    "display(sp.Eq(\n",
    "    sp.symbols(\"[E]\"), \n",
    "    Lagrangian\n",
    "))"
   ]
  },
  {
   "cell_type": "markdown",
   "metadata": {},
   "source": [
    "![](https://i.imgur.com/3F4uKwe.png)"
   ]
  },
  {
   "cell_type": "code",
   "execution_count": null,
   "metadata": {},
   "outputs": [],
   "source": [
    "# (a) dessert animal"
   ]
  },
  {
   "cell_type": "markdown",
   "metadata": {},
   "source": [
    "I played a video game called \"Zelda : Breath of the Wild\" on Nintendo switch before. It is a really nice game. \"Zelda\" allows players to explore the world of Hyrule Kingdom with limited constraints. Anyway, there's a town called Gerudo on the southern area of the Hyrule Kingdom. The town is located in a harsh dessert. While the players is running in the dessert area, because it is too hot, their life (or Health Point (HP)) will decrease until they die. \n",
    "\n",
    "So, we may assume that the maximal distance an animal can run depends on the how many HPs they have and the rate of decreasing HPs under the hot desert weather."
   ]
  },
  {
   "cell_type": "code",
   "execution_count": 158,
   "metadata": {},
   "outputs": [
    {
     "name": "stdout",
     "output_type": "stream",
     "text": [
      "maximal distance = velocity * time = velocity * (number of HPs) / (rate of decreasing HP) =\n",
      "= HP*v/rate\n",
      "\n",
      "Assume: number of HPs is propotional to the volume size of an animal. \n",
      "Larger animals get more HPs. \n",
      "In the game, the Bosses are usually bigger and have more HPs, so there may have a correlation here.\n"
     ]
    },
    {
     "data": {
      "image/png": "[encoded data removed]",
      "text/latex": [
       "$$[HP] = L^{3}$$"
      ],
      "text/plain": [
       "        3\n",
       "[HP] = L "
      ]
     },
     "metadata": {},
     "output_type": "display_data"
    },
    {
     "name": "stdout",
     "output_type": "stream",
     "text": [
      "Assume: rate of decreasing HPs is propotional to the surface size of an animal. \n",
      "Larger surface area usually more easily suffer from dehydration. \n",
      "And when you dehydration in the dessert, you die.\n"
     ]
    },
    {
     "data": {
      "image/png": "[encoded data removed]",
      "text/latex": [
       "$$[rate] = L^{2}$$"
      ],
      "text/plain": [
       "          2\n",
       "[rate] = L "
      ]
     },
     "metadata": {},
     "output_type": "display_data"
    },
    {
     "name": "stdout",
     "output_type": "stream",
     "text": [
      "Combine all information, and recall that time is propotional to (number of HPs) / (rate of decreasing HP)\n"
     ]
    },
    {
     "data": {
      "image/png": "[encoded data removed]",
      "text/latex": [
       "$$[MaximalDistance] = L$$"
      ],
      "text/plain": [
       "[MaximalDistance] = L"
      ]
     },
     "metadata": {},
     "output_type": "display_data"
    }
   ],
   "source": [
    "# maximal distance = velocity * time = velocity * (number of HPs) / (rate of decreasing HP)\n",
    "HP, rate = sp.symbols(\"HP rate\")\n",
    "maximal_distance = v * HP / rate\n",
    "print(\"maximal distance = velocity * time = velocity * (number of HPs) / (rate of decreasing HP) =\\n= {}\\n\".format(maximal_distance))\n",
    "\n",
    "# assume: number of HPs is propotional to the volume size of an animal.\n",
    "HP_expr = L**3\n",
    "print(\"Assume: number of HPs is propotional to the volume size of an animal. \\nLarger animals get more HPs. \\nIn the game, the Bosses are usually bigger and have more HPs, so there may have a correlation here.\")\n",
    "display(sp.Eq(sp.symbols(\"[HP]\"), HP_expr))\n",
    "\n",
    "# assume: rate of decreasing HPs is propotional to the surface size of an animal.\n",
    "rate_expr = L**2\n",
    "print(\"Assume: rate of decreasing HPs is propotional to the surface size of an animal. \\nLarger surface area usually more easily suffer from dehydration. \\nAnd when you dehydration in the dessert, you die.\")\n",
    "display(sp.Eq(sp.symbols(\"[rate]\"), rate_expr))\n",
    "\n",
    "# combine all information, and recall that time is propotional to (number of HPs) / (rate of decreasing HP)\n",
    "maximal_distance_dimension = maximal_distance.subs({\n",
    "    v    : L * T**-1,\n",
    "    HP   : HP_expr,\n",
    "    rate : rate_expr,\n",
    "}).subs({\n",
    "    T : HP_expr * rate_expr**-1\n",
    "})\n",
    "print(\"Combine all information, and recall that time is propotional to (number of HPs) / (rate of decreasing HP)\")\n",
    "display(sp.Eq(\n",
    "    sp.symbols(\"[MaximalDistance]\"), \n",
    "    maximal_distance_dimension\n",
    "))"
   ]
  },
  {
   "cell_type": "code",
   "execution_count": 162,
   "metadata": {},
   "outputs": [
    {
     "name": "stdout",
     "output_type": "stream",
     "text": [
      "Recall the equation of Work and Energy: \n",
      "Work = force * distance = mass * gravitational_acceleration * hieght\n"
     ]
    },
    {
     "data": {
      "image/png": "[encoded data removed]",
      "text/latex": [
       "$$F dx = g h m$$"
      ],
      "text/plain": [
       "F⋅dx = g⋅h⋅m"
      ]
     },
     "metadata": {},
     "output_type": "display_data"
    }
   ],
   "source": [
    "# (b) Height of the jump of a animal\n",
    "# recall the equation of Work and Energy\n",
    "dx, W, m, g, h = sp.symbols(\"dx W m g h\")\n",
    "work_energy_expr = sp.Eq(F * dx, m * g * h)\n",
    "print(\"Recall the equation of Work and Energy: \\nWork = force * distance = mass * gravitational_acceleration * hieght\")\n",
    "display(work_energy_expr)\n",
    "\n"
   ]
  },
  {
   "cell_type": "code",
   "execution_count": null,
   "metadata": {},
   "outputs": [],
   "source": []
  }
 ],
 "metadata": {
  "hide_input": false,
  "kernelspec": {
   "display_name": "Python 3",
   "language": "python",
   "name": "python3"
  },
  "language_info": {
   "codemirror_mode": {
    "name": "ipython",
    "version": 3
   },
   "file_extension": ".py",
   "mimetype": "text/x-python",
   "name": "python",
   "nbconvert_exporter": "python",
   "pygments_lexer": "ipython3",
   "version": "3.6.1"
  }
 },
 "nbformat": 4,
 "nbformat_minor": 2
}
